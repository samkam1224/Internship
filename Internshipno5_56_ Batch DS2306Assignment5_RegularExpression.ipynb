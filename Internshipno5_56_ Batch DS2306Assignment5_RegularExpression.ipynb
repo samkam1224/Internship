{
 "cells": [
  {
   "cell_type": "code",
   "execution_count": null,
   "id": "4189c153",
   "metadata": {},
   "outputs": [],
   "source": [
    "#Question 1- Write a Python program to check that a string contains only a certain set of characters (in this case a-z, A-Z and 0-9)."
   ]
  },
  {
   "cell_type": "code",
   "execution_count": 1,
   "id": "62d1fc71",
   "metadata": {},
   "outputs": [
    {
     "name": "stdout",
     "output_type": "stream",
     "text": [
      "True\n"
     ]
    }
   ],
   "source": [
    "import re\n",
    " \n",
    "pattern = \"[A-Za-z0-9]\"\n",
    " \n",
    "str = \"Samkam1208\"\n",
    " \n",
    "state = bool(re.match(pattern, str))\n",
    " \n",
    "print(state)\n"
   ]
  },
  {
   "cell_type": "code",
   "execution_count": null,
   "id": "3860bbc6",
   "metadata": {},
   "outputs": [],
   "source": [
    "#Question 2- Create a function in python that matches a string that has an a followed by zero or more b's"
   ]
  },
  {
   "cell_type": "code",
   "execution_count": 2,
   "id": "20751daa",
   "metadata": {},
   "outputs": [
    {
     "name": "stdout",
     "output_type": "stream",
     "text": [
      "Not matched!\n",
      "Found a match!\n",
      "Not matched!\n"
     ]
    }
   ],
   "source": [
    "import re\n",
    "def match_data(text):\n",
    "        patterns = '^a(b*)$'\n",
    "        if re.search(patterns,  text):\n",
    "                return 'Found a match!'\n",
    "        else:\n",
    "                return('Not matched!')\n",
    "print(match_data(\"sab\"))\n",
    "print(match_data(\"abb\"))\n",
    "print(match_data(\"acbbb\"))\n"
   ]
  },
  {
   "cell_type": "code",
   "execution_count": null,
   "id": "7d3dfa91",
   "metadata": {},
   "outputs": [],
   "source": [
    "#Question 3-  Create a function in python that matches a string that has an a followed by one or more b's"
   ]
  },
  {
   "cell_type": "code",
   "execution_count": 3,
   "id": "299db3c0",
   "metadata": {},
   "outputs": [
    {
     "name": "stdout",
     "output_type": "stream",
     "text": [
      "Found a match!\n",
      "Found a match!\n",
      "Not matched!\n"
     ]
    }
   ],
   "source": [
    "import re\n",
    "def match_data(text):\n",
    "        patterns = 'ab+?'\n",
    "        if re.search(patterns,  text):\n",
    "                return 'Found a match!'\n",
    "        else:\n",
    "                return('Not matched!')\n",
    "print(match_data(\"sab\"))\n",
    "print(match_data(\"abb\"))\n",
    "print(match_data(\"acbbb\"))\n"
   ]
  },
  {
   "cell_type": "code",
   "execution_count": null,
   "id": "a1d0010a",
   "metadata": {},
   "outputs": [],
   "source": [
    "#Question 4- Create a function in Python and use RegEx that matches a string that has an a followed by zero or one 'b'"
   ]
  },
  {
   "cell_type": "code",
   "execution_count": 4,
   "id": "d54774eb",
   "metadata": {},
   "outputs": [
    {
     "name": "stdout",
     "output_type": "stream",
     "text": [
      "Found a match!\n",
      "Found a match!\n",
      "Found a match!\n"
     ]
    }
   ],
   "source": [
    "import re\n",
    "def match_data(text):\n",
    "        patterns = 'ab?'\n",
    "        if re.search(patterns,  text):\n",
    "                return 'Found a match!'\n",
    "        else:\n",
    "                return('Not matched!')\n",
    "print(match_data(\"sab\"))\n",
    "print(match_data(\"abb\"))\n",
    "print(match_data(\"acbbb\"))\n"
   ]
  },
  {
   "cell_type": "code",
   "execution_count": null,
   "id": "9a385b2a",
   "metadata": {},
   "outputs": [],
   "source": [
    "#Question 5- Write a Python program that matches a string that has an a followed by three 'b'."
   ]
  },
  {
   "cell_type": "code",
   "execution_count": 5,
   "id": "785b489f",
   "metadata": {},
   "outputs": [
    {
     "name": "stdout",
     "output_type": "stream",
     "text": [
      "Not matched!\n",
      "Not matched!\n",
      "Found a match!\n"
     ]
    }
   ],
   "source": [
    "import re\n",
    "def match_data(text):\n",
    "        patterns = 'cb{3}?'\n",
    "        if re.search(patterns,  text):\n",
    "                return 'Found a match!'\n",
    "        else:\n",
    "                return('Not matched!')\n",
    "print(match_data(\"sab\"))\n",
    "print(match_data(\"abb\"))\n",
    "print(match_data(\"acbbb\"))\n"
   ]
  },
  {
   "cell_type": "code",
   "execution_count": null,
   "id": "ec17e396",
   "metadata": {},
   "outputs": [],
   "source": [
    "#Question 6- Write a regular expression in Python to split a string into uppercase letters."
   ]
  },
  {
   "cell_type": "code",
   "execution_count": 6,
   "id": "c4dfd3af",
   "metadata": {},
   "outputs": [
    {
     "name": "stdout",
     "output_type": "stream",
     "text": [
      "['Importance', 'Of', 'Regular', 'Expressions', 'In', 'Python']\n"
     ]
    }
   ],
   "source": [
    "import re\n",
    "pattern='[A-Z][^A-Z]*'\n",
    "str=\"ImportanceOfRegularExpressionsInPython\"\n",
    "#res=re.split(pattern,str)\n",
    "print(re.findall(pattern,str))\n"
   ]
  },
  {
   "cell_type": "code",
   "execution_count": null,
   "id": "a42f4411",
   "metadata": {},
   "outputs": [],
   "source": [
    "#Question 7- Write a Python program that matches a string that has an a followed by two to three 'b'."
   ]
  },
  {
   "cell_type": "code",
   "execution_count": 7,
   "id": "ac4ca40f",
   "metadata": {},
   "outputs": [
    {
     "name": "stdout",
     "output_type": "stream",
     "text": [
      "Not matched!\n",
      "Not matched!\n",
      "Found a match!\n",
      "Found a match!\n",
      "Not matched!\n"
     ]
    }
   ],
   "source": [
    "import re\n",
    "def match_data(text):\n",
    "        patterns = 'ab{2,3}'\n",
    "        if re.search(patterns,  text):\n",
    "                return 'Found a match!'\n",
    "        else:\n",
    "                return('Not matched!')\n",
    "print(match_data(\"sab\"))\n",
    "print(match_data(\"ab\"))\n",
    "print(match_data(\"aabbbbbc\"))\n",
    "print(match_data(\"abb\"))\n",
    "print(match_data(\"acbbb\"))\n"
   ]
  },
  {
   "cell_type": "code",
   "execution_count": null,
   "id": "aacedad0",
   "metadata": {},
   "outputs": [],
   "source": [
    "#Question 8- Write a Python program to find sequences of lowercase letters joined with a underscore."
   ]
  },
  {
   "cell_type": "code",
   "execution_count": 8,
   "id": "45f1a1c4",
   "metadata": {},
   "outputs": [
    {
     "name": "stdout",
     "output_type": "stream",
     "text": [
      "Not matched!\n",
      "Found a match!\n",
      "Not matched!\n",
      "Found a match!\n"
     ]
    }
   ],
   "source": [
    "import re\n",
    "def match_data(text):\n",
    "        patterns = '^[a-z]+_[a-z]+$'\n",
    "        if re.search(patterns,  text):\n",
    "                return 'Found a match!'\n",
    "        else:\n",
    "                return('Not matched!')\n",
    "\n",
    "print(match_data(\"ab\"))\n",
    "print(match_data(\"aab_bbbbc\"))\n",
    "print(match_data(\"abb\"))\n",
    "print(match_data(\"acb_bb\"))\n"
   ]
  },
  {
   "cell_type": "code",
   "execution_count": null,
   "id": "f67dd326",
   "metadata": {},
   "outputs": [],
   "source": [
    "#Question 9- Write a Python program that matches a string that has an 'a' followed by anything, ending in 'b'."
   ]
  },
  {
   "cell_type": "code",
   "execution_count": 9,
   "id": "51d03060",
   "metadata": {},
   "outputs": [
    {
     "name": "stdout",
     "output_type": "stream",
     "text": [
      "Found a match!\n",
      "Not matched!\n",
      "Not matched!\n"
     ]
    }
   ],
   "source": [
    "import re\n",
    "def match_data(text):\n",
    "        patterns = 'a.*?b$'\n",
    "        if re.search(patterns,  text):\n",
    "                return 'Found a match!'\n",
    "        else:\n",
    "                return('Not matched!')\n",
    "\n",
    "print(match_data(\"ab\"))\n",
    "print(match_data(\"aab_bbbbc\"))\n",
    "print(match_data(\"cbb\"))\n"
   ]
  },
  {
   "cell_type": "code",
   "execution_count": null,
   "id": "ef1dab8e",
   "metadata": {},
   "outputs": [],
   "source": [
    "#Question 10- Write a Python program that matches a word at the beginning of a string."
   ]
  },
  {
   "cell_type": "code",
   "execution_count": 10,
   "id": "aab214df",
   "metadata": {},
   "outputs": [
    {
     "name": "stdout",
     "output_type": "stream",
     "text": [
      "Found a match!\n",
      "Not matched!\n",
      "Found a match!\n",
      "Not matched!\n"
     ]
    }
   ],
   "source": [
    "import re\n",
    "def match_data(text):\n",
    "        patterns = '^\\w+'\n",
    "        if re.search(patterns,  text):\n",
    "                return 'Found a match!'\n",
    "        else:\n",
    "                return('Not matched!')\n",
    "\n",
    "print(match_data(\"ab\"))\n",
    "print(match_data(\" aab_bbbbc\"))\n",
    "print(match_data(\"cbb\"))\n",
    "print(match_data(\" acb_bb\"))\n"
   ]
  },
  {
   "cell_type": "code",
   "execution_count": null,
   "id": "c0c520a8",
   "metadata": {},
   "outputs": [],
   "source": [
    "#Question 11- Write a Python program to match a string that contains only upper and lowercase letters, numbers, and underscores."
   ]
  },
  {
   "cell_type": "code",
   "execution_count": 11,
   "id": "5b3c0991",
   "metadata": {},
   "outputs": [
    {
     "name": "stdout",
     "output_type": "stream",
     "text": [
      "Not matched!\n",
      "Found a match!\n",
      "Not matched!\n",
      "Not matched!\n"
     ]
    }
   ],
   "source": [
    "import re\n",
    "def match_data(text):\n",
    "        patterns = '^[a-zA-Z0-9_]*$'\n",
    "        if re.search(patterns,  text):\n",
    "                return 'Found a match!'\n",
    "        else:\n",
    "                return('Not matched!')\n",
    "\n",
    "print(match_data(\"ab.\"))\n",
    "print(match_data(\"aab_bbbbc\"))\n",
    "print(match_data(\"c#bb\"))\n",
    "print(match_data(\"$acb_bb\"))\n"
   ]
  },
  {
   "cell_type": "code",
   "execution_count": null,
   "id": "bc4714cc",
   "metadata": {},
   "outputs": [],
   "source": [
    "#Question 12- Write a Python program where a string will start with a specific number. "
   ]
  },
  {
   "cell_type": "code",
   "execution_count": 12,
   "id": "bda2f6b1",
   "metadata": {},
   "outputs": [
    {
     "name": "stdout",
     "output_type": "stream",
     "text": [
      "True\n",
      "False\n"
     ]
    }
   ],
   "source": [
    "import re\n",
    "def match_data(string):\n",
    "    text = re.compile(r\"^3\")\n",
    "    if text.match(string):\n",
    "        return True\n",
    "    else:\n",
    "        return False\n",
    "print(match_data('316'))\n",
    "print(match_data('612'))\n"
   ]
  },
  {
   "cell_type": "code",
   "execution_count": null,
   "id": "7536e2b7",
   "metadata": {},
   "outputs": [],
   "source": [
    "#Question 13- Write a Python program to remove leading zeros from an IP address"
   ]
  },
  {
   "cell_type": "code",
   "execution_count": 13,
   "id": "9a357324",
   "metadata": {},
   "outputs": [
    {
     "name": "stdout",
     "output_type": "stream",
     "text": [
      "192.68.9.10\n"
     ]
    }
   ],
   "source": [
    "import re\n",
    "ip = \"192.068.09.10\"\n",
    "string = re.sub('\\.[0]*', '.', ip)\n",
    "print(string)\n"
   ]
  },
  {
   "cell_type": "code",
   "execution_count": 16,
   "id": "fb42cf7e",
   "metadata": {},
   "outputs": [
    {
     "name": "stdout",
     "output_type": "stream",
     "text": [
      "August 15th 1947\n"
     ]
    }
   ],
   "source": [
    "#Question 14- Write a regular expression in python to match a date string in the form of Month name followed by day number and year stored in a text file.\n",
    "#Sample text : ' On August 15th 1947 that India was declared independent from British colonialism, and the reins of control were handed over to the leaders of the Country’.\n",
    "#Output- August 15th 1947\n",
    "#\n",
    "\n",
    "\n",
    "import re\n",
    "\n",
    "text = \"On August 15th 1947 that India was declared independent from British colonialism, and the reins of control were handed over to the leaders of the Country.\"\n",
    "\n",
    "pattern = r\"\\b[A-Z][a-z]+\\s+\\d+(?:st|nd|rd|th)?\\s+\\d{4}\\b\"\n",
    "\n",
    "matches = re.findall(pattern, text)\n",
    "if matches:\n",
    "    for match in matches:\n",
    "        print(match)\n",
    "else:\n",
    "    print(\"No date string found.\")\n",
    "\n"
   ]
  },
  {
   "cell_type": "code",
   "execution_count": 17,
   "id": "eec8aae0",
   "metadata": {},
   "outputs": [
    {
     "name": "stdout",
     "output_type": "stream",
     "text": [
      "Found words: ['fox', 'dog']\n"
     ]
    }
   ],
   "source": [
    "#Question 15- Write a Python program to search some literals strings in a string. Go to the editor\n",
    "#Sample text : 'The quick brown fox jumps over the lazy dog.'\n",
    "#Searched words : 'fox', 'dog', 'horse'\n",
    "\n",
    "def search_strings(text, searched_words):\n",
    "    found_words = []\n",
    "    for word in searched_words:\n",
    "        if word in text:\n",
    "            found_words.append(word)\n",
    "    return found_words\n",
    "\n",
    "sample_text = 'The quick brown fox jumps over the lazy dog.'\n",
    "searched_words = ['fox', 'dog', 'horse']\n",
    "\n",
    "found_words = search_strings(sample_text, searched_words)\n",
    "\n",
    "print(\"Found words:\", found_words)\n"
   ]
  },
  {
   "cell_type": "code",
   "execution_count": 18,
   "id": "0dd6f53c",
   "metadata": {},
   "outputs": [
    {
     "name": "stdout",
     "output_type": "stream",
     "text": [
      "The word 'fox' was found in the text at location(s):\n",
      "16\n"
     ]
    }
   ],
   "source": [
    "#Question 16- Write a Python program to search a literals string in a string and also find the location within the original string where the pattern occurs\n",
    "#Sample text : 'The quick brown fox jumps over the lazy dog.'\n",
    "#Searched words : 'fox'\n",
    "\n",
    "def search_string_locations(text, pattern):\n",
    "    locations = []\n",
    "    index = 0\n",
    "    while index < len(text):\n",
    "        pos = text.find(pattern, index)\n",
    "        if pos == -1:\n",
    "            break\n",
    "        locations.append(pos)\n",
    "        index = pos + 1\n",
    "    return locations\n",
    "\n",
    "sample_text = 'The quick brown fox jumps over the lazy dog.'\n",
    "searched_word = 'fox'\n",
    "\n",
    "word_locations = search_string_locations(sample_text, searched_word)\n",
    "\n",
    "if word_locations:\n",
    "    print(\"The word '{}' was found in the text at location(s):\".format(searched_word))\n",
    "    for location in word_locations:\n",
    "        print(location)\n",
    "else:\n",
    "    print(\"The word '{}' was not found in the text.\".format(searched_word))\n",
    "\n"
   ]
  },
  {
   "cell_type": "code",
   "execution_count": 21,
   "id": "af32ebd9",
   "metadata": {},
   "outputs": [
    {
     "name": "stdout",
     "output_type": "stream",
     "text": [
      "Found \"exercises\"\n",
      "Found \"exercises\"\n",
      "Found \"exercises\"\n"
     ]
    }
   ],
   "source": [
    "#Question 17- Write a Python program to find the substrings within a string.\n",
    "#Sample text : 'Python exercises, PHP exercises, C# exercises'\n",
    "#Pattern : 'exercises'.\n",
    "import re\n",
    "str = 'Python exercises, PHP exercises, C# exercises'\n",
    "pattern = 'exercises'\n",
    "for match in re.findall(pattern, str):\n",
    "    print('Found \"%s\"' % match)\n"
   ]
  },
  {
   "cell_type": "code",
   "execution_count": 20,
   "id": "f389fceb",
   "metadata": {},
   "outputs": [
    {
     "name": "stdout",
     "output_type": "stream",
     "text": [
      "Found \"exercises\" at 7:16\n",
      "Found \"exercises\" at 22:31\n",
      "Found \"exercises\" at 36:45\n"
     ]
    }
   ],
   "source": [
    "#Question 18- Write a Python program to find the occurrence and position of the substrings within a string.\n",
    "\n",
    "import re\n",
    "text = 'Python exercises, PHP exercises, C# exercises'\n",
    "pattern = 'exercises'\n",
    "for match in re.finditer(pattern, text):\n",
    "    s = match.start()\n",
    "    e = match.end()\n",
    "    print('Found \"%s\" at %d:%d' % (text[s:e], s, e))"
   ]
  },
  {
   "cell_type": "code",
   "execution_count": 23,
   "id": "9850b6b1",
   "metadata": {},
   "outputs": [
    {
     "name": "stdout",
     "output_type": "stream",
     "text": [
      "Original date in YYY-MM-DD Format:  2023-07-15\n",
      "New date in DD-MM-YYYY Format:  15-07-2023\n"
     ]
    }
   ],
   "source": [
    "#Question 19- Write a Python program to convert a date of yyyy-mm-dd format to dd-mm-yyyy format.\n",
    "import re\n",
    "def change_date_format(dt):\n",
    "        return re.sub(r'(\\d{4})-(\\d{1,2})-(\\d{1,2})', '\\\\3-\\\\2-\\\\1', dt)\n",
    "date1 = \"2023-07-15\"\n",
    "print(\"Original date in YYY-MM-DD Format: \",date1)\n",
    "print(\"New date in DD-MM-YYYY Format: \",change_date_format(date1))"
   ]
  },
  {
   "cell_type": "code",
   "execution_count": 24,
   "id": "ac0dcc1d",
   "metadata": {},
   "outputs": [
    {
     "name": "stdout",
     "output_type": "stream",
     "text": [
      "['any', 'ents', 'are', 'appy', 'ey', 'ate', 'aggie']\n"
     ]
    }
   ],
   "source": [
    "#Question 20- Write a Python program to find all words starting with 'a' or 'e' in a given string.\n",
    "\n",
    "import re\n",
    "text = \"Many students are happy.They ate maggie\"\n",
    "list = re.findall(\"[ae]\\w+\", text)\n",
    "# Print result.\n",
    "print(list)"
   ]
  },
  {
   "cell_type": "code",
   "execution_count": 25,
   "id": "a9834849",
   "metadata": {},
   "outputs": [
    {
     "name": "stdout",
     "output_type": "stream",
     "text": [
      "99\n",
      "Index position: 16\n"
     ]
    }
   ],
   "source": [
    "#Question 21- Write a Python program to separate and print the numbers and their position of a given string.\n",
    "\n",
    "import re\n",
    "\n",
    "text = \"My friend score 99 percent in maths\"\n",
    "\n",
    "for m in re.finditer(\"\\d+\", text):\n",
    "    print(m.group(0))\n",
    "    print(\"Index position:\", m.start())"
   ]
  },
  {
   "cell_type": "code",
   "execution_count": 26,
   "id": "030dbff8",
   "metadata": {},
   "outputs": [
    {
     "name": "stdout",
     "output_type": "stream",
     "text": [
      "Max_value: 123\n"
     ]
    }
   ],
   "source": [
    "#Question 22- Write a regular expression in python program to extract maximum numeric value from a string\n",
    "\n",
    "import re\n",
    "string='ab12cd123ef23'\n",
    "number = re.findall('\\d+', string)\n",
    "number = map(int, number)\n",
    "print(\"Max_value:\",max(number))"
   ]
  },
  {
   "cell_type": "code",
   "execution_count": 27,
   "id": "1837de14",
   "metadata": {},
   "outputs": [
    {
     "name": "stdout",
     "output_type": "stream",
     "text": [
      "Hello World Of Python\n"
     ]
    }
   ],
   "source": [
    "#Question 23- Write a Regex in Python to put spaces between words starting with capital letters\n",
    "\n",
    "import re\n",
    "string='HelloWorldOfPython'\n",
    "words = re.findall('[A-Z][a-z]*', string)\n",
    "print(' '.join((words)))"
   ]
  },
  {
   "cell_type": "code",
   "execution_count": 28,
   "id": "4ce6bb8d",
   "metadata": {},
   "outputs": [
    {
     "name": "stdout",
     "output_type": "stream",
     "text": [
      "Found a match!\n",
      "Found a match!\n"
     ]
    }
   ],
   "source": [
    "#Question 24- Python regex to find sequences of one upper case letter followed by lower case letters\n",
    "\n",
    "import re\n",
    "def match_data(text):\n",
    "        patterns = '[A-Z]+[a-z]+$'\n",
    "        if re.search(patterns, text):\n",
    "                return 'Found a match!'\n",
    "        else:\n",
    "                return('Not matched!')\n",
    "print(match_data(\"AaBbGg\"))\n",
    "print(match_data(\"Python\"))\n"
   ]
  },
  {
   "cell_type": "code",
   "execution_count": 29,
   "id": "205e1ac1",
   "metadata": {},
   "outputs": [
    {
     "name": "stdout",
     "output_type": "stream",
     "text": [
      "There are two children playing in the park\n"
     ]
    }
   ],
   "source": [
    "#Question 25- Write a Python program to remove duplicate words from Sentence using Regular Expression\n",
    "from collections import Counter \n",
    "def remove_duplicate(s):\n",
    "\n",
    "    s = s.split(\" \")\n",
    "    word_dic = Counter(s)\n",
    "    result = \" \".join(word_dic.keys())\n",
    "    print (result)\n",
    " \n",
    "st = 'There are two children children playing in the park'\n",
    "remove_duplicate(st)"
   ]
  },
  {
   "cell_type": "code",
   "execution_count": 30,
   "id": "01bb77b5",
   "metadata": {},
   "outputs": [
    {
     "name": "stdout",
     "output_type": "stream",
     "text": [
      "The string is :\n",
      "Python@\n",
      "The string doesnot end with alphanumeric character\n",
      "\n",
      "The string is :\n",
      "Python1245\n",
      "The string ends with alphanumeric character\n"
     ]
    }
   ],
   "source": [
    "#Question 26-  Write a python program using RegEx to accept string ending with alphanumeric character.\n",
    "import re\n",
    "\n",
    "regex_expression = '[a-zA-z0-9]$'\n",
    "\n",
    "def check_string(my_string):\n",
    "\n",
    "   if(re.search(regex_expression, my_string)):\n",
    "      print(\"The string ends with alphanumeric character\")\n",
    "\n",
    "   else:\n",
    "      print(\"The string doesnot end with alphanumeric character\")\n",
    "\n",
    "\n",
    "my_string_1 = \"Python@\"\n",
    "print(\"The string is :\")\n",
    "print(my_string_1)\n",
    "check_string(my_string_1)\n",
    "\n",
    "my_string_2 = \"Python1245\"\n",
    "print(\"\\nThe string is :\")\n",
    "print(my_string_2)\n",
    "check_string(my_string_2)"
   ]
  },
  {
   "cell_type": "code",
   "execution_count": 31,
   "id": "58a5c1c6",
   "metadata": {},
   "outputs": [
    {
     "name": "stdout",
     "output_type": "stream",
     "text": [
      "Hashtags found:\n",
      "#Doltiwal\n",
      "#xyzabc\n",
      "#Demonetization\n"
     ]
    }
   ],
   "source": [
    "#Question 27-Write a python program using RegEx to extract the hashtags.\n",
    "#Sample Text: text = \"\"\"RT @kapil_kausik: #Doltiwal I mean #xyzabc is \"hurt\" by #Demonetization as the same has rendered USELESS <ed><U+00A0><U+00BD><ed><U+00B1><U+0089> \"acquired funds\" No wo\"\"\"\n",
    "#Output: ['#Doltiwal', '#xyzabc', '#Demonetization']\n",
    "\n",
    "import re\n",
    "\n",
    "text = 'RT @kapil_kausik: #Doltiwal I mean #xyzabc is \"hurt\" by #Demonetization as the same has rendered USELESS <ed><U+00A0><U+00BD><ed><U+00B1><U+0089> \"acquired funds\" No wo'\n",
    "\n",
    "hashtags = re.findall(r'#\\w+', text)\n",
    "\n",
    "print(\"Hashtags found:\")\n",
    "for hashtag in hashtags:\n",
    "    print(hashtag)\n"
   ]
  },
  {
   "cell_type": "code",
   "execution_count": 32,
   "id": "90281b68",
   "metadata": {},
   "outputs": [
    {
     "name": "stdout",
     "output_type": "stream",
     "text": [
      "Cleaned Text:\n",
      "@Jags123456 Bharat band on 28??<ed><ed>Those who are protesting #demonetization are all different party leaders\n"
     ]
    }
   ],
   "source": [
    "#Question 28- Write a python program using RegEx to remove <U+..> like symbols\n",
    "#Check the below sample text, there are strange symbols something of the sort <U+..> all over the place. You need to come up with a general Regex expression that will cover all such symbols.\n",
    "#Sample Text: \"@Jags123456 Bharat band on 28??<ed><U+00A0><U+00BD><ed><U+00B8><U+0082>Those who  are protesting #demonetization  are all different party leaders\"\n",
    "#Output: @Jags123456 Bharat band on 28??<ed><ed>Those who  are protesting #demonetization  are all different party leaders\n",
    "import re\n",
    "\n",
    "text = \"@Jags123456 Bharat band on 28??<ed><U+00A0><U+00BD><ed><U+00B8><U+0082>Those who are protesting #demonetization are all different party leaders\"\n",
    "\n",
    "cleaned_text = re.sub(r\"<U\\+[A-F0-9]{4}>\", \"\", text)\n",
    "\n",
    "print(\"Cleaned Text:\")\n",
    "print(cleaned_text)\n"
   ]
  },
  {
   "cell_type": "code",
   "execution_count": 33,
   "id": "4b380fa5",
   "metadata": {},
   "outputs": [
    {
     "name": "stdout",
     "output_type": "stream",
     "text": [
      "Dates found:\n",
      "12-09-1992\n",
      "15-12-1999\n"
     ]
    }
   ],
   "source": [
    "#Question 29- Write a python program to extract dates from the text stored in the text file.\n",
    "#Sample Text: Ron was born on 12-09-1992 and he was admitted to school 15-12-1999.\n",
    "#Store this sample text in the file and then extract dates.\n",
    "import re\n",
    "\n",
    "# Store the sample text in a file\n",
    "with open('sample.txt', 'w') as file:\n",
    "    file.write(\"Ron was born on 12-09-1992 and he was admitted to school 15-12-1999.\")\n",
    "\n",
    "# Read the sample text from the file\n",
    "with open('sample.txt', 'r') as file:\n",
    "    text = file.read()\n",
    "\n",
    "# Extract dates using regular expression\n",
    "dates = re.findall(r\"\\d{2}-\\d{2}-\\d{4}\", text)\n",
    "\n",
    "# Print the extracted dates\n",
    "print(\"Dates found:\")\n",
    "for date in dates:\n",
    "    print(date)\n",
    "\n"
   ]
  },
  {
   "cell_type": "code",
   "execution_count": 34,
   "id": "6a1c84bf",
   "metadata": {},
   "outputs": [
    {
     "name": "stdout",
     "output_type": "stream",
     "text": [
      "Replaced Text:\n",
      "Python:Exercises::PHP:exercises:\n"
     ]
    }
   ],
   "source": [
    "#Question 30- Write a Python program to replace all occurrences of a space, comma, or dot with a colon.\n",
    "#Sample Text- 'Python Exercises, PHP exercises.'\n",
    "#Output: Python:Exercises::PHP:exercises:\n",
    "\n",
    "import re\n",
    "\n",
    "sample_text = 'Python Exercises, PHP exercises.'\n",
    "\n",
    "replaced_text = re.sub(r'[ ,.]', ':', sample_text)\n",
    "\n",
    "print(\"Replaced Text:\")\n",
    "print(replaced_text)\n",
    "\n"
   ]
  },
  {
   "cell_type": "code",
   "execution_count": null,
   "id": "b1c1c4df",
   "metadata": {},
   "outputs": [],
   "source": []
  }
 ],
 "metadata": {
  "kernelspec": {
   "display_name": "Python 3 (ipykernel)",
   "language": "python",
   "name": "python3"
  },
  "language_info": {
   "codemirror_mode": {
    "name": "ipython",
    "version": 3
   },
   "file_extension": ".py",
   "mimetype": "text/x-python",
   "name": "python",
   "nbconvert_exporter": "python",
   "pygments_lexer": "ipython3",
   "version": "3.9.13"
  }
 },
 "nbformat": 4,
 "nbformat_minor": 5
}
