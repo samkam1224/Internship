{
 "cells": [
  {
   "cell_type": "code",
   "execution_count": 1,
   "id": "3921cbf3",
   "metadata": {},
   "outputs": [],
   "source": [
    "import selenium\n",
    "import pandas as pd\n",
    "from selenium import webdriver\n",
    "import warnings\n",
    "warnings.filterwarnings('ignore')\n",
    "from selenium.webdriver.common.by import By\n",
    "import requests \n",
    "import time\n",
    "from selenium.common.exceptions import NoSuchElementException"
   ]
  },
  {
   "cell_type": "code",
   "execution_count": 2,
   "id": "a9e6cbbb",
   "metadata": {},
   "outputs": [],
   "source": [
    "driver=webdriver.Chrome()"
   ]
  },
  {
   "cell_type": "markdown",
   "id": "27331d3e",
   "metadata": {},
   "source": [
    "# Q1 \n"
   ]
  },
  {
   "cell_type": "code",
   "execution_count": 3,
   "id": "7f3d0124",
   "metadata": {},
   "outputs": [
    {
     "name": "stdout",
     "output_type": "stream",
     "text": [
      "Enter your item:guitar\n"
     ]
    }
   ],
   "source": [
    "val=input(\"Enter your item:\")"
   ]
  },
  {
   "cell_type": "markdown",
   "id": "d3cd7092",
   "metadata": {},
   "source": [
    "# Q2"
   ]
  },
  {
   "cell_type": "code",
   "execution_count": 4,
   "id": "6b8f294f",
   "metadata": {},
   "outputs": [],
   "source": [
    "driver.get(\"https://www.amazon.in/\")"
   ]
  },
  {
   "cell_type": "code",
   "execution_count": 5,
   "id": "1fc807fc",
   "metadata": {},
   "outputs": [],
   "source": [
    "sp_tags=driver.find_element(By.XPATH,\"//div[@class='nav-search-field ']//input\")\n",
    "sp_tags.send_keys(val)\n",
    "search=driver.find_element(By.XPATH,\"//div[@class='nav-search-submit nav-sprite']//span\")\n",
    "search.click()\n",
    "time.sleep(3)\n"
   ]
  },
  {
   "cell_type": "code",
   "execution_count": 6,
   "id": "06c34a2a",
   "metadata": {},
   "outputs": [],
   "source": [
    "#scrape all product urls\n",
    "product_urls = []\n",
    "start = 0\n",
    "end = 3\n",
    "\n",
    "for page in range(start,end):\n",
    "    url=driver.find_elements(By.XPATH,'//a[@class=\"a-link-normal s-underline-text s-underline-link-text s-link-style a-text-normal\"]')\n",
    "    for i in url:\n",
    "        product_urls.append(i.get_attribute(\"href\"))\n",
    "    nxt_button=driver.find_element(By.XPATH,'//a[@class=\"s-pagination-item s-pagination-next s-pagination-button s-pagination-separator\"]')\n",
    "    nxt_button.click()\n",
    "    time.sleep(2)"
   ]
  },
  {
   "cell_type": "code",
   "execution_count": 7,
   "id": "51769fcc",
   "metadata": {},
   "outputs": [
    {
     "data": {
      "text/plain": [
       "170"
      ]
     },
     "execution_count": 7,
     "metadata": {},
     "output_type": "execute_result"
    }
   ],
   "source": [
    "len(product_urls)"
   ]
  },
  {
   "cell_type": "code",
   "execution_count": 11,
   "id": "08aae0ee",
   "metadata": {},
   "outputs": [
    {
     "name": "stdout",
     "output_type": "stream",
     "text": [
      "['Medellin', 'Kadence', 'Medellin', 'Medellin', 'JUAREZ', 'JUAREZ', 'Intern', 'Kadence', 'YAMAHA', 'JUAREZ', 'JUAREZ', 'Henrix', 'YAMAHA', 'YAMAHA', 'Intern', 'Fender', 'YAMAHA', 'Ibanez', 'JUAREZ', 'Intern', 'YAMAHA', 'Kadence', 'musicalworks.in', 'VAULT', 'HOVNER', 'Kadence', 'VAULT', 'VAULT', 'JUAREZ', 'Intern', 'Medellin', 'REVEL', 'JUAREZ', 'Intern', 'Intern', 'Intern', 'Intern', 'Intern', 'Medellin', 'enya', 'blueberry', 'Intern', 'Kadence', 'Intern', 'Neowood', 'Kadence', 'VAULT', 'Intern', 'YAMAHA', 'Intern', 'Intern', 'YAMAHA', 'YAMAHA', 'Intern', 'YAMAHA', 'VAULT', 'Medellin', 'NM Signature', 'Kadence', 'Henrix', 'VAULT', 'Medellin', 'Medellin', 'Medellin', 'Kadence', 'VAULT', 'VAULT', 'Cort', 'Guitar Bro', \"Gibz's guitar\", 'JUAREZ', 'JUAREZ', 'HOVNER', 'Intern', 'Donner', 'YAMAHA', 'JUAREZ', 'JUAREZ', 'Kadence', 'Intern', 'JUAREZ', 'blueberry', 'Fender', 'Cort', 'YAMAHA', 'enya', 'DEVICE OF URBAN INFOTECH', 'Kaps', 'VAULT', 'blueberry', 'Intern', 'YAMAHA', 'YAMAHA', 'Intern', 'YAMAHA', 'YAMAHA', 'Martin Smith', 'Fender', 'YAMAHA', 'blueberry', 'JUAREZ', 'Cort', 'JUAREZ', 'JUAREZ', 'nat', 'blueberry', 'Intern', 'Henrix', 'Medellin', 'Medellin', 'ORANGEWOOD GUITARS', 'Kadence', 'JUAREZ', 'JUAREZ', 'Cort', 'JUAREZ', 'Cort', 'Kadence', 'Fender', 'blueberry', 'Cort', 'Guitar Bro', 'Intern', 'HOVNER', 'GIVSON', 'Kadence', 'YAMAHA', 'Kadence', 'JUAREZ', 'Cort', 'blueberry', 'medellin', 'blueberry', 'Cort', 'Intern', 'JUAREZ', 'Kadence', 'JUAREZ', 'Kadence', 'Belear', 'HOVNER', 'Medellin', 'YAMAHA', 'YAMAHA', 'Kadence', 'blueberry', 'Ibanez', 'HOVNER', 'Kadence', 'JUAREZ', 'Tanglewood', 'Kadence', 'Fender', 'Washburn', 'Belear', 'blueberry', 'YAMAHA', 'blueberry', 'blueberry', 'VAULT', 'VAULT', 'YAMAHA', 'JUAREZ', 'Fender', 'HOVNER', 'ARCTIC', 'Ibanez', 'Fender', 'KETOSTICS', 'C M enterprise']\n"
     ]
    }
   ],
   "source": [
    "Brand=[]\n",
    "for url in product_urls:\n",
    "    driver.get(url)\n",
    "    time.sleep(2)\n",
    "    \n",
    "    try:\n",
    "        brand=driver.find_element(By.XPATH,'//*[@id=\"productOverview_feature_div\"]/div/table/tbody/tr[1]/td[2]/span')\n",
    "        Brand.append(brand.text)\n",
    "    except NoSuchElementException:\n",
    "        Brand.append('-')\n",
    "print(Brand)"
   ]
  },
  {
   "cell_type": "code",
   "execution_count": 9,
   "id": "19385abc",
   "metadata": {},
   "outputs": [
    {
     "name": "stdout",
     "output_type": "stream",
     "text": [
      "['₹2,499\\n00', '₹4,999\\n00', '₹2,499\\n00', '₹2,499\\n00', '₹1,999\\n00', '₹2,649\\n00', '₹2,099\\n00', '₹8,999\\n00', '₹7,099\\n00', '₹2,436\\n00', '₹1,999\\n00', '₹3,299\\n00', '₹13,122\\n00', '₹11,267\\n00', '₹2,099\\n00', '₹12,500\\n00', '₹9,990\\n00', '₹7,249\\n00', '₹1,999\\n00', '₹2,099\\n00', '₹8,091\\n00', '₹4,699\\n00', '₹4,993\\n00', '₹4,801\\n00', '₹4,635\\n00', '₹4,999\\n00', '₹6,999\\n00', '₹4,609\\n00', '₹2,649\\n00', '₹2,699\\n00', '₹1,999\\n00', '₹1,792\\n63', '₹5,299\\n00', '₹2,099\\n00', '-', '₹2,099\\n00', '₹2,099\\n00', '₹2,399\\n00', '₹2,499\\n00', '₹16,500\\n00', '₹2,425\\n00', '₹3,290\\n00', '₹6,499\\n00', '₹2,499\\n00', '₹5,299\\n00', '₹4,699\\n00', '₹4,801\\n00', '₹4,009\\n00', '₹8,549\\n00', '₹2,099\\n00', '₹2,399\\n00', '₹10,999\\n00', '₹7,990\\n00', '₹2,496\\n00', '₹12,490\\n00', '₹3,924\\n00', '₹2,499\\n00', '₹3,789\\n00', '₹11,999\\n00', '₹2,818\\n00', '₹3,924\\n00', '₹2,499\\n00', '₹2,499\\n00', '₹2,499\\n00', '₹4,999\\n00', '₹4,801\\n00', '₹6,934\\n00', '₹8,999\\n00', '₹8,999\\n00', '₹6,999\\n00', '₹5,749\\n00', '₹89\\n00', '₹4,350\\n00', '₹2,699\\n00', '₹26,000\\n00', '₹9,300\\n00', '₹2,649\\n00', '₹2,649\\n00', '₹2,999\\n00', '₹2,399\\n00', '₹2,649\\n00', '₹2,655\\n00', '₹34,960\\n00', '₹14,999\\n00', '₹9,639\\n00', '₹25,500\\n00', '₹5,428\\n00', '₹7,999\\n00', '₹23,199\\n00', '₹3,990\\n00', '₹2,099\\n00', '₹27,979\\n00', '₹9,990\\n00', '₹5,253\\n00', '₹13,790\\n00', '₹7,600\\n00', '₹5,339\\n00', '₹12,453\\n00', '₹9,690\\n00', '₹3,290\\n00', '₹7,254\\n00', '₹10,941\\n00', '₹2,649\\n00', '₹2,799\\n00', '₹18,659\\n00', '₹4,490\\n00', '₹2,149\\n00', '₹2,729\\n00', '₹2,499\\n00', '₹2,499\\n00', '₹15,469\\n00', '₹6,899\\n00', '₹2,489\\n00', '₹2,649\\n00', '₹14,190\\n00', '₹6,053\\n57', '₹12,559\\n00', '₹3,999\\n00', '₹18,091\\n00', '₹4,290\\n00', '₹8,999\\n00', '₹8,999\\n00', '₹2,263\\n00', '₹4,635\\n00', '₹3,989\\n00', '₹5,499\\n00', '₹8,990\\n00', '₹6,999\\n00', '₹2,799\\n00', '₹12,699\\n00', '₹4,290\\n00', '₹2,799\\n00', '₹2,999\\n00', '₹16,399\\n00', '₹2,699\\n00', '₹5,979\\n00', '₹8,499\\n00', '₹7,131\\n63', '₹5,899\\n00', '₹3,049\\n00', '₹4,350\\n00', '₹2,799\\n00', '₹10,875\\n00', '-', '₹11,999\\n00', '₹2,395\\n00', '₹7,929\\n00', '₹4,074\\n00', '₹5,999\\n00', '₹2,609\\n00', '₹13,490\\n00', '₹7,399\\n00', '₹11,900\\n00', '₹11,489\\n00', '₹4,730\\n00', '₹2,795\\n00', '₹12,400\\n00', '₹2,695\\n00', '₹2,450\\n00', '₹3,723\\n00', '₹4,442\\n00', '₹10,499\\n00', '₹3,179\\n00', '₹12,199\\n00', '₹4,350\\n00', '₹5,448\\n00', '₹7,699\\n00', '₹7,400\\n00', '₹4,269\\n00', '-']\n"
     ]
    }
   ],
   "source": [
    "Price=[]\n",
    "for url in product_urls:\n",
    "    driver.get(url)\n",
    "    time.sleep(2)\n",
    "    \n",
    "    try:\n",
    "        price=driver.find_element(By.XPATH,'//*[@id=\"corePrice_feature_div\"]')\n",
    "        Price.append(price.text)\n",
    "    except NoSuchElementException:\n",
    "        Price.append('-')\n",
    "print(Price)"
   ]
  },
  {
   "cell_type": "code",
   "execution_count": 12,
   "id": "59566ef8",
   "metadata": {},
   "outputs": [
    {
     "name": "stdout",
     "output_type": "stream",
     "text": [
      "              Brand       Price\n",
      "0          Medellin  ₹2,499\\n00\n",
      "1           Kadence  ₹4,999\\n00\n",
      "2          Medellin  ₹2,499\\n00\n",
      "3          Medellin  ₹2,499\\n00\n",
      "4            JUAREZ  ₹1,999\\n00\n",
      "..              ...         ...\n",
      "165          ARCTIC  ₹5,448\\n00\n",
      "166          Ibanez  ₹7,699\\n00\n",
      "167          Fender  ₹7,400\\n00\n",
      "168       KETOSTICS  ₹4,269\\n00\n",
      "169  C M enterprise           -\n",
      "\n",
      "[170 rows x 2 columns]\n"
     ]
    }
   ],
   "source": [
    "import pandas as pd\n",
    "df=pd.DataFrame({'Brand':Brand,'Price':Price})\n",
    "print(df)"
   ]
  },
  {
   "cell_type": "markdown",
   "id": "fd476cbd",
   "metadata": {},
   "source": [
    "# Q3"
   ]
  },
  {
   "cell_type": "code",
   "execution_count": 63,
   "id": "7ec8f5ff",
   "metadata": {},
   "outputs": [],
   "source": [
    "import selenium\n",
    "import pandas as pd\n",
    "from selenium import webdriver\n",
    "import warnings\n",
    "warnings.filterwarnings('ignore')\n",
    "from selenium.webdriver.common.by import By\n",
    "import requests \n",
    "import time\n",
    "from selenium.common.exceptions import NoSuchElementException"
   ]
  },
  {
   "cell_type": "code",
   "execution_count": 64,
   "id": "6375458c",
   "metadata": {},
   "outputs": [],
   "source": [
    "driver=webdriver.Chrome()"
   ]
  },
  {
   "cell_type": "code",
   "execution_count": 22,
   "id": "6fbd1166",
   "metadata": {},
   "outputs": [],
   "source": [
    "#driver.get(\"https://images.google.com/\")"
   ]
  },
  {
   "cell_type": "code",
   "execution_count": 65,
   "id": "dc5c6067",
   "metadata": {},
   "outputs": [],
   "source": [
    "search_url=\"https://www.google.com/search?q={q}&tbm=isch&tbs=sur%3Afc&hl=en&ved=0CAIQpwVqFwoTCKCa1c6s4-oCFQAAAAAdAAAAABAC&biw=1251&bih=568\" \n",
    "\n",
    "driver.get(search_url.format(q='Car'))\n"
   ]
  },
  {
   "cell_type": "code",
   "execution_count": 25,
   "id": "a12cd364",
   "metadata": {},
   "outputs": [
    {
     "ename": "AttributeError",
     "evalue": "'WebDriver' object has no attribute 'execute_scripts'",
     "output_type": "error",
     "traceback": [
      "\u001b[1;31m---------------------------------------------------------------------------\u001b[0m",
      "\u001b[1;31mAttributeError\u001b[0m                            Traceback (most recent call last)",
      "\u001b[1;32m~\\AppData\\Local\\Temp\\ipykernel_17456\\2517823941.py\u001b[0m in \u001b[0;36m<module>\u001b[1;34m\u001b[0m\n\u001b[0;32m      1\u001b[0m \u001b[1;32mfor\u001b[0m \u001b[0m_\u001b[0m \u001b[1;32min\u001b[0m \u001b[0mrange\u001b[0m\u001b[1;33m(\u001b[0m\u001b[1;36m20\u001b[0m\u001b[1;33m)\u001b[0m\u001b[1;33m:\u001b[0m\u001b[1;33m\u001b[0m\u001b[1;33m\u001b[0m\u001b[0m\n\u001b[1;32m----> 2\u001b[1;33m     \u001b[0mdriver\u001b[0m\u001b[1;33m.\u001b[0m\u001b[0mexecute_scripts\u001b[0m\u001b[1;33m(\u001b[0m\u001b[1;34m\"window.scrollBy(0,1000)\"\u001b[0m\u001b[1;33m)\u001b[0m\u001b[1;33m\u001b[0m\u001b[1;33m\u001b[0m\u001b[0m\n\u001b[0m\u001b[0;32m      3\u001b[0m \u001b[1;33m\u001b[0m\u001b[0m\n\u001b[0;32m      4\u001b[0m \u001b[0mimages\u001b[0m\u001b[1;33m=\u001b[0m\u001b[0mdriver\u001b[0m\u001b[1;33m.\u001b[0m\u001b[0mfind_elements\u001b[0m\u001b[1;33m(\u001b[0m\u001b[0mBy\u001b[0m\u001b[1;33m.\u001b[0m\u001b[0mXPATH\u001b[0m\u001b[1;33m,\u001b[0m\u001b[1;34m'//img[@class=\"bRMDJf islir\"]'\u001b[0m\u001b[1;33m)\u001b[0m\u001b[1;33m\u001b[0m\u001b[1;33m\u001b[0m\u001b[0m\n\u001b[0;32m      5\u001b[0m \u001b[0mimg_urls\u001b[0m\u001b[1;33m=\u001b[0m \u001b[1;33m[\u001b[0m\u001b[1;33m]\u001b[0m\u001b[1;33m\u001b[0m\u001b[1;33m\u001b[0m\u001b[0m\n",
      "\u001b[1;31mAttributeError\u001b[0m: 'WebDriver' object has no attribute 'execute_scripts'"
     ]
    }
   ],
   "source": [
    "'''for _ in range(20):\n",
    "    driver.execute_scripts(\"window.scrollBy(0,1000)\")\n",
    "\n",
    "images=driver.find_elements(By.XPATH,'//img[@class=\"bRMDJf islir\"]')\n",
    "img_urls= []\n",
    "img_data= []\n",
    "\n",
    "for image in images:\n",
    "    source=image.get_attribute('src')\n",
    "    if source is not None:\n",
    "        if(source[0:4] == 'http'):\n",
    "            img_urls.append(source)\n",
    "\n",
    "for i in range(len(img_urls)):\n",
    "    if i>10:\n",
    "        breakBy.XPATH,\n",
    "    print(\"Downlaoding {0} of {1} images\".format(i,10))\n",
    "    responses=requests.get(img_urls[i])\n",
    "    file= open(r\"\"+str(i)+\".jpg\",\"wb\")\n",
    "    file.write(response.content)\n",
    "'''"
   ]
  },
  {
   "cell_type": "code",
   "execution_count": 66,
   "id": "34a160e1",
   "metadata": {},
   "outputs": [],
   "source": [
    "#Scroll to the end of the page\n",
    "driver.execute_script(\"window.scrollBy(0,1000);\")\n",
    "time.sleep(5)#sleep_between_interactions\n",
    "\n"
   ]
  },
  {
   "cell_type": "code",
   "execution_count": 67,
   "id": "f43c883b",
   "metadata": {},
   "outputs": [],
   "source": [
    "#Locate the images to be scraped from the current page \n",
    "imgResults = driver.find_elements(By.XPATH,\"//img[(@class='rg_i Q4LuWd')]\")\n",
    "totalResults=len(imgResults)"
   ]
  },
  {
   "cell_type": "code",
   "execution_count": 75,
   "id": "91d98ac7",
   "metadata": {},
   "outputs": [
    {
     "name": "stdout",
     "output_type": "stream",
     "text": [
      "Downlaoding 0 of 10 images\n",
      "Downlaoding 1 of 10 images\n",
      "Downlaoding 2 of 10 images\n",
      "Downlaoding 3 of 10 images\n",
      "Downlaoding 4 of 10 images\n",
      "Downlaoding 5 of 10 images\n",
      "Downlaoding 6 of 10 images\n",
      "Downlaoding 7 of 10 images\n",
      "Downlaoding 8 of 10 images\n",
      "Downlaoding 9 of 10 images\n",
      "Downlaoding 10 of 10 images\n"
     ]
    }
   ],
   "source": [
    "\n",
    "img_urls= []\n",
    "img_data= []\n",
    "\n",
    "for image in imgResults:\n",
    "    source=image.get_attribute('src')\n",
    "    if source is not None:\n",
    "        if(source[0:4] == 'http'):\n",
    "             img_urls.append(source)\n",
    "\n",
    "for i in range(len(img_urls)):\n",
    "    if i > 10:\n",
    "         break\n",
    "    print(\"Downlaoding {0} of {1} images\".format(i,10))\n",
    "    responses=requests.get(img_urls[i])\n",
    "    file= open(r\"E:\\2023-2024\\DataTrained\\Assignment\\Webscrapping_Assignment6\\images\\\\\"+str(i)+\".jpg\",\"wb\")\n",
    "    file.write(responses.content)\n",
    "\n"
   ]
  },
  {
   "cell_type": "markdown",
   "id": "1e3eab02",
   "metadata": {},
   "source": [
    "# Q4\n"
   ]
  },
  {
   "cell_type": "code",
   "execution_count": 94,
   "id": "be62429b",
   "metadata": {},
   "outputs": [],
   "source": [
    "import selenium\n",
    "import pandas as pd\n",
    "from selenium import webdriver\n",
    "import warnings\n",
    "warnings.filterwarnings('ignore')\n",
    "from selenium.webdriver.common.by import By\n",
    "import requests \n",
    "import time\n",
    "from selenium.common.exceptions import NoSuchElementException"
   ]
  },
  {
   "cell_type": "code",
   "execution_count": 95,
   "id": "bbfda0dc",
   "metadata": {},
   "outputs": [],
   "source": [
    "driver=webdriver.Chrome()"
   ]
  },
  {
   "cell_type": "code",
   "execution_count": 101,
   "id": "c1bfd758",
   "metadata": {},
   "outputs": [],
   "source": [
    "driver.get(\"https://www.flipkart.com/\")"
   ]
  },
  {
   "cell_type": "code",
   "execution_count": 104,
   "id": "3b872c62",
   "metadata": {},
   "outputs": [],
   "source": [
    "sp_tags=driver.find_element(By.XPATH,\"//div[@class='_3OO5Xc']//input\")\n",
    "sp_tags.send_keys(\"Oneplus Nord\")\n",
    "search=driver.find_element(By.XPATH,\"//div[@class='col-12-12 _2oO9oE']//button\")\n",
    "search.click()\n",
    "time.sleep(3)\n"
   ]
  },
  {
   "cell_type": "code",
   "execution_count": 105,
   "id": "4cd7312c",
   "metadata": {},
   "outputs": [],
   "source": [
    "#scrape all product urls\n",
    "product_urls = []\n",
    "start = 0\n",
    "end = 3\n",
    "\n",
    "for page in range(start,end):\n",
    "    url=driver.find_elements(By.XPATH,'//a[@class=\"_1fQZEK\"]')\n",
    "    for i in url:\n",
    "        product_urls.append(i.get_attribute(\"href\"))\n",
    "    nxt_button=driver.find_element(By.XPATH,'//a[@class=\"_1LKTO3\"]')\n",
    "    nxt_button.click()\n",
    "    time.sleep(2)"
   ]
  },
  {
   "cell_type": "code",
   "execution_count": 86,
   "id": "ce8e8c4d",
   "metadata": {},
   "outputs": [
    {
     "data": {
      "text/plain": [
       "72"
      ]
     },
     "execution_count": 86,
     "metadata": {},
     "output_type": "execute_result"
    }
   ],
   "source": [
    "len(product_urls)"
   ]
  },
  {
   "cell_type": "code",
   "execution_count": 108,
   "id": "8ea221f2",
   "metadata": {},
   "outputs": [
    {
     "name": "stdout",
     "output_type": "stream",
     "text": [
      "['OnePlus Nord CE 2 Lite 5G (Blue Tide, 128 GB)  (6 GB RAM)', 'OnePlus Nord CE 2 Lite 5G (Black Dusk, 128 GB)  (6 GB RAM)', 'OnePlus 10R (Sierra Black, 128 GB)  (8 GB RAM)', 'OnePlus 11R 5G (Galactic Silver, 128 GB)  (8 GB RAM)', 'OnePlus 11R 5G (Galactic Silver, 256 GB)  (16 GB RAM)', 'OnePlus 11R 5G (Sonic Black, 256 GB)  (16 GB RAM)', 'OnePlus 11R 5G (Sonic Black, 128 GB)  (8 GB RAM)', 'OnePlus Nord 3 5G (Misty Green, 256 GB)  (16 GB RAM)', 'OnePlus 11R 5G (Sonic Black, 256 GB)  (16 GB RAM)', 'OnePlus 11R 5G (Sonic Black, 128 GB)  (8 GB RAM)', 'OnePlus Nord 2T 5G (Jade Fog, 128 GB)  (8 GB RAM)', 'OnePlus 10R 5G (Forest Green, 256 GB)  (12 GB RAM)', 'OnePlus Nord 3 5G (Tempest Gray, 128 GB)  (8 GB RAM)', 'OnePlus 10R 5G (Prime Blue, 128 GB)  (8 GB RAM)', 'OnePlus Nord 3 5G (Misty Green, 128 GB)  (8 GB RAM)', 'OnePlus 10R 5G (Prime Blue, 128 GB)  (8 GB RAM)', 'OnePlus 10R 5G (Prime Blue, 128 GB)  (8 GB RAM)', 'OnePlus 10R 5G (Forest Green, 256 GB)  (12 GB RAM)', 'OnePlus 11 5G (Eternal Green, 256 GB)  (16 GB RAM)', 'OnePlus 10T 5G (Moonstone Black, 256 GB)  (12 GB RAM)', 'OnePlus Nord 3 5G (Tempest Gray, 256 GB)  (16 GB RAM)', 'OnePlus 8T 5G (Lunar Silver, 128 GB)  (8 GB RAM)', 'OnePlus 10R (Sierra Black, 128 GB)  (8 GB RAM)', 'OnePlus 8T 5G (Aquamarine Green, 256 GB)  (12 GB RAM)', 'OnePlus 10T 5G (Moonstone Black, 128 GB)  (8 GB RAM)', 'OnePlus 10R (Sierra Black, 128 GB)  (8 GB RAM)', 'OnePlus 10R 5G (Sierra Black, 256 GB)  (12 GB RAM)', 'OnePlus 11 5G (Eternal Green, 128 GB)  (8 GB RAM)', 'OnePlus 11R 5G (Sonic Black, 128 GB)  (8 GB RAM)', 'OnePlus 6T (Mirror Black, 128 GB)  (8 GB RAM)', 'OnePlus 10R (Forest Green, 128 GB)  (8 GB RAM)', 'OnePlus 10R 5G (Forest Green, 256 GB)  (12 GB RAM)', 'OnePlus 10R (Forest Green, 128 GB)  (8 GB RAM)', 'OnePlus Nord 2 5G (Blue Haze, 256 GB)  (12 GB RAM)', 'OnePlus 10R 5G (Sierra Black, 256 GB)  (12 GB RAM)', 'OnePlus 11 5G (Titan Black, 256 GB)  (16 GB RAM)', 'OnePlus 10T 5G (Moonstone Black, 256 GB)  (16 GB RAM)', 'OnePlus 10R (Forest Green, 256 GB)  (12 GB RAM)', 'OnePlus 10 Pro 5G (Volcanic Black, 128 GB)  (8 GB RAM)', 'OnePlus 11 5G (Eternal Green, 128 GB)  (8 GB RAM)', 'OnePlus 11 5G (Titan Black, 128 GB)  (8 GB RAM)', 'OnePlus 11 5G (Eternal Green, 256 GB)  (16 GB RAM)', 'OnePlus 11R 5G (Sonic Black, 128 GB)  (8 GB RAM)', 'OnePlus 10R 5G (Sierra Black, 256 GB)  (12 GB RAM)', 'OnePlus NORD CE2 LITE 5G (Blue Tide, 128 GB)  (6 GB RAM)', 'OnePlus 9 5G (Astral Black, 256 GB)  (12 GB RAM)', 'OnePlus 9 5G (Winter Mist, 256 GB)  (12 GB RAM)', 'OnePlus 9 5G (Arctic Sky, 256 GB)  (12 GB RAM)', 'OnePlus Nord CE 2 Lite 5G (Blue Tide, 128 GB)  (6 GB RAM)', 'OnePlus Nord CE 2 Lite 5G (Black Dusk, 128 GB)  (6 GB RAM)', 'OnePlus 10R (Sierra Black, 128 GB)  (8 GB RAM)', 'OnePlus 11R 5G (Galactic Silver, 128 GB)  (8 GB RAM)', 'OnePlus 11R 5G (Galactic Silver, 256 GB)  (16 GB RAM)', 'OnePlus 11R 5G (Sonic Black, 256 GB)  (16 GB RAM)', 'OnePlus 11R 5G (Sonic Black, 128 GB)  (8 GB RAM)', 'OnePlus Nord 3 5G (Misty Green, 256 GB)  (16 GB RAM)', 'OnePlus 11R 5G (Sonic Black, 256 GB)  (16 GB RAM)', 'OnePlus 11R 5G (Sonic Black, 128 GB)  (8 GB RAM)', 'OnePlus Nord 2T 5G (Jade Fog, 128 GB)  (8 GB RAM)', 'OnePlus 10R 5G (Forest Green, 256 GB)  (12 GB RAM)', 'OnePlus Nord 3 5G (Tempest Gray, 128 GB)  (8 GB RAM)', 'OnePlus 10R 5G (Prime Blue, 128 GB)  (8 GB RAM)', 'OnePlus Nord 3 5G (Misty Green, 128 GB)  (8 GB RAM)', 'OnePlus 10R 5G (Prime Blue, 128 GB)  (8 GB RAM)', 'OnePlus 10R 5G (Prime Blue, 128 GB)  (8 GB RAM)', 'OnePlus 10R 5G (Forest Green, 256 GB)  (12 GB RAM)', 'OnePlus 11 5G (Eternal Green, 256 GB)  (16 GB RAM)', 'OnePlus 10T 5G (Moonstone Black, 256 GB)  (12 GB RAM)', 'OnePlus Nord 3 5G (Tempest Gray, 256 GB)  (16 GB RAM)', 'OnePlus 8T 5G (Lunar Silver, 128 GB)  (8 GB RAM)', 'OnePlus 10R (Sierra Black, 128 GB)  (8 GB RAM)', 'OnePlus 8T 5G (Aquamarine Green, 256 GB)  (12 GB RAM)']\n"
     ]
    }
   ],
   "source": [
    "Brand=[]\n",
    "for url in product_urls:\n",
    "    driver.get(url)\n",
    "    time.sleep(2)\n",
    "    \n",
    "    try:\n",
    "        brand=driver.find_element(By.XPATH,'//span[@class=\"B_NuCI\"]')\n",
    "        Brand.append(brand.text)\n",
    "    except NoSuchElementException:\n",
    "        Brand.append('-')\n",
    "print(Brand)"
   ]
  },
  {
   "cell_type": "code",
   "execution_count": 111,
   "id": "7a4ca39f",
   "metadata": {},
   "outputs": [
    {
     "name": "stdout",
     "output_type": "stream",
     "text": [
      "['-', '-', '-', '-', '-', '-', '-', '-', '-', '-', '-', '-', '-', '-', '-', '-', '-', '-', '-', '-', '-', '-', '-', '-', '-', '-', '-', '-', '-', '-', '-', '-', '-', '-', '-', '-', '-', '-', '-', '-', '-', '-', '-', '-', '-', '-', '-', '-', '-', '-', '-', '-', '-', '-', '-', '-', '-', '-', '-', '-', '-', '-', '-', '-', '-', '-', '-', '-', '-', '-', '-', '-']\n"
     ]
    }
   ],
   "source": [
    "Price=[]\n",
    "for url in product_urls:\n",
    "    driver.get(url)\n",
    "    time.sleep(2)\n",
    "    \n",
    "    try:\n",
    "        price=driver.find_element(By.XPATH,'//*[@id=\"_30jeq3 _16Jk6d\"]')\n",
    "        Price.append(price.text)\n",
    "    except NoSuchElementException:\n",
    "        Price.append('-')\n",
    "print(Price)"
   ]
  },
  {
   "cell_type": "code",
   "execution_count": null,
   "id": "c09c730c",
   "metadata": {},
   "outputs": [],
   "source": [
    "import pandas as pd\n",
    "df=pd.DataFrame({'Brand':Brand,'Price':Price})\n",
    "print(df)"
   ]
  },
  {
   "cell_type": "markdown",
   "id": "fd11b726",
   "metadata": {},
   "source": [
    "# Q5\n"
   ]
  },
  {
   "cell_type": "code",
   "execution_count": null,
   "id": "75afc838",
   "metadata": {},
   "outputs": [],
   "source": [
    "import selenium\n",
    "import pandas as pd\n",
    "from selenium import webdriver\n",
    "import warnings\n",
    "warnings.filterwarnings('ignore')\n",
    "from selenium.webdriver.common.by import By\n",
    "import requests \n",
    "import time\n",
    "import re\n",
    "# Set up Selenium WebDriver (ensure you have the appropriate driver installed and its path configured)\n",
    "driver=webdriver.Chrome() # Replace with the actual path to your ChromeDriver executable\n",
    "driver.get(\"https://www.google.com/maps\")\n",
    "time.sleep(2)  # Let the page load\n",
    "\n",
    "# City to search for\n",
    "city_name = \"New York\"\n",
    "\n",
    "# Find the search input field, enter the city name, and submit the search\n",
    "search_box = driver.find_element(By.XPATH,\"//*[@id='XmI62e']//input\")\n",
    "search_box.clear()\n",
    "#search_box.send_keys(city_name)\n",
    "#search_button = driver.find_element(By.XPATH,\"//div[@class='pzfvzf']//button\")\n",
    "#search_button.click()\n",
    "\n",
    "time.sleep(5)  # Let the search results load\n",
    "\n",
    "# Find the latitude and longitude\n",
    "try:\n",
    "    url_string=driver.current_url\n",
    "    print(\"URL Extracted: \", url_string)\n",
    "    #lat_lang=re.findall(r'@(.*)data',url_string)\n",
    "    latitude,longitude=url_string.split(\"?q=\")[1].split(\",\")\n",
    "    #info_box = driver.find_element_by_css_selector(\".ugiz4pqJLAG__primary-text.gm2-body-2\")\n",
    "    #latitude = info_box.find_element_by_css_selector(\".ugiz4pqJLAG__location-position\").text\n",
    "    #longitude = info_box.find_element_by_css_selector(\".ugiz4pqJLAG__location-leaf\").text\n",
    "    print(f\"Coordinates for {city_name}: Latitude {latitude}, Longitude {longitude}\")\n",
    "except Exception as e:\n",
    "    print(f\"Error getting coordinates for {city_name}: {e}\")\n",
    "\n",
    "# Close the browser\n",
    "driver.quit()"
   ]
  },
  {
   "cell_type": "markdown",
   "id": "bde5b351",
   "metadata": {},
   "source": [
    "# Q6\n"
   ]
  },
  {
   "cell_type": "code",
   "execution_count": null,
   "id": "2c234f89",
   "metadata": {},
   "outputs": [],
   "source": [
    "# import selenium\n",
    "import pandas as pd\n",
    "from selenium import webdriver\n",
    "from selenium.webdriver.common.by import By\n",
    "from selenium.webdriver.support.ui import WebDriverWait\n",
    "from selenium.webdriver.support import expected_conditions as EC\n",
    "import warnings\n",
    "warnings.filterwarnings('ignore')\n",
    "from selenium.webdriver.common.by import By\n",
    "import requests \n",
    "import time\n",
    "import re\n",
    "\n",
    "# Set up Selenium WebDriver\n",
    "driver=webdriver.Chrome()  \n",
    "url = \"https://www.digit.in/top-products/best-gaming-laptops-40.html\"\n",
    "driver.get(url)\n",
    "\n",
    "# Wait for the laptop details to load\n",
    "wait = WebDriverWait(driver, 10)\n",
    "laptop_section = wait.until(EC.presence_of_element_located((By.CLASS_NAME, 'TopNumbeHeading')))\n",
    "\n",
    "# Find all laptop details\n",
    "laptop_details = laptop_section.find_elements(By.CLASS_NAME, 'TopNumbeList')\n",
    "\n",
    "# Loop through each laptop detail\n",
    "for laptop in laptop_details:\n",
    "    laptop_name = laptop.find_element(By.CLASS_NAME, 'TopNumbeHeading').text.strip()\n",
    "    specs = laptop.find_element(By.CLASS_NAME, 'TopNumbePc').text.strip()\n",
    "    \n",
    "    # Print or process the laptop details\n",
    "    print(\"Laptop:\", laptop_name)\n",
    "    print(\"Specifications:\", specs)\n",
    "    print(\"=\" * 50)\n",
    "\n",
    "# Close the browser\n",
    "#driver.quit()"
   ]
  },
  {
   "cell_type": "markdown",
   "id": "500aa4c0",
   "metadata": {},
   "source": [
    "# Q7"
   ]
  },
  {
   "cell_type": "code",
   "execution_count": 121,
   "id": "29284aa5",
   "metadata": {},
   "outputs": [],
   "source": [
    "# import selenium\n",
    "import pandas as pd\n",
    "from selenium import webdriver\n",
    "from selenium.webdriver.common.by import By\n",
    "from selenium.webdriver.support.ui import WebDriverWait\n",
    "from selenium.webdriver.support import expected_conditions as EC\n",
    "import warnings\n",
    "warnings.filterwarnings('ignore')\n",
    "from selenium.webdriver.common.by import By\n",
    "import requests \n",
    "import time\n",
    "import re\n",
    "\n",
    "# Set up Selenium WebDriver\n",
    "driver=webdriver.Chrome()  \n",
    "url = \"https://www.forbes.com/billionaires/\"\n",
    "driver.get(url)\n",
    "\n",
    "# Wait for the list of billionaires to load\n",
    "wait = WebDriverWait(driver, 10)\n",
    "#billionaires_list = wait.until(EC.presence_of_element_located((By.CLASS_NAME, 'forbes-billboard')))\n",
    "\n",
    "# Find all billionaire details\n",
    "billionaire_details = driver.find_elements(By.CLASS_NAME, 'forbes-billboard-item')\n",
    "\n",
    "# Loop through each billionaire detail\n",
    "for billionaire in billionaire_details:\n",
    "    rank = billionaire.find_element(By.CLASS_NAME, 'rank').text\n",
    "    name = billionaire.find_element(By.CLASS_NAME, 'personName').text\n",
    "    net_worth = billionaire.find_element(By.CLASS_NAME, 'netWorth').text\n",
    "    age = billionaire.find_element(By.CLASS_NAME, 'age').text\n",
    "    citizenship = billionaire.find_element(By.CLASS_NAME, 'countryOfCitizenship').text\n",
    "    source = billionaire.find_element(By.CLASS_NAME, 'source-column').text\n",
    "    industry = billionaire.find_element(By.CLASS_NAME, 'category').text\n",
    "    \n",
    "    # Print or process the billionaire details\n",
    "    print(\"Rank:\", rank)\n",
    "    print(\"Name:\", name)\n",
    "    print(\"Net Worth:\", net_worth)\n",
    "    print(\"Age:\", age)\n",
    "    print(\"Citizenship:\", citizenship)\n",
    "    print(\"Source:\", source)\n",
    "    print(\"Industry:\", industry)\n",
    "    print(\"=\" * 50)\n",
    "\n",
    "# Close the browser\n",
    "#driver.quit()\n"
   ]
  },
  {
   "cell_type": "markdown",
   "id": "e1ade05e",
   "metadata": {},
   "source": [
    "# Q8 "
   ]
  },
  {
   "cell_type": "code",
   "execution_count": 123,
   "id": "f0804d8b",
   "metadata": {},
   "outputs": [],
   "source": [
    "# import selenium\n",
    "import pandas as pd\n",
    "from selenium import webdriver\n",
    "from selenium.webdriver.common.by import By\n",
    "from selenium.webdriver.support.ui import WebDriverWait\n",
    "from selenium.webdriver.support import expected_conditions as EC\n",
    "import warnings\n",
    "warnings.filterwarnings('ignore')\n",
    "from selenium.webdriver.common.by import By\n",
    "import requests \n",
    "import time\n",
    "import re\n",
    "\n",
    "# Set up Selenium WebDriver\n",
    "driver=webdriver.Chrome()  \n",
    "# Open the YouTube video URL\n",
    "video_url = \"https://www.youtube.com/watch?v=TMp3vtb7uZQ\"\n",
    "driver.get(video_url)\n",
    "\n",
    "time.sleep(5)  # Give the page time to load comments\n",
    "\n",
    "# Scroll down to load more comments (adjust the number of scrolls based on the desired number of comments)\n",
    "scrolls = 10\n",
    "for _ in range(scrolls):\n",
    "    driver.execute_script(\"window.scrollTo(0, document.documentElement.scrollHeight);\")\n",
    "    time.sleep(3)\n",
    "\n",
    "# Extract comments, upvotes, and timestamps\n",
    "comment_elements = driver.find_elements(By.XPATH,'//yt-formatted-string[@id=\"content-text\"]')\n",
    "upvote_elements = driver.find_elements(By.XPATH,'//span[@id=\"vote-count-middle\"]')\n",
    "timestamp_elements = driver.find_elements(By.XPATH,'//a[@class=\"yt-simple-endpoint style-scope yt-formatted-string\"]')\n",
    "\n",
    "for comment, upvote, timestamp in zip(comment_elements, upvote_elements, timestamp_elements):\n",
    "    comment_text = comment.text\n",
    "    upvote_count = upvote.text\n",
    "    timestamp_text = timestamp.text\n",
    "\n",
    "    print(\"Comment:\", comment_text)\n",
    "    print(\"Upvotes:\", upvote_count)\n",
    "    print(\"Timestamp:\", timestamp_text)\n",
    "    print(\"=\" * 50)\n",
    "\n",
    "# Close the browser\n",
    "driver.quit()\n"
   ]
  },
  {
   "cell_type": "markdown",
   "id": "f8e1fd5f",
   "metadata": {},
   "source": [
    "# Q9"
   ]
  },
  {
   "cell_type": "code",
   "execution_count": 124,
   "id": "b632f763",
   "metadata": {},
   "outputs": [
    {
     "ename": "AttributeError",
     "evalue": "'WebDriver' object has no attribute 'find_elements_by_css_selector'",
     "output_type": "error",
     "traceback": [
      "\u001b[1;31m---------------------------------------------------------------------------\u001b[0m",
      "\u001b[1;31mAttributeError\u001b[0m                            Traceback (most recent call last)",
      "\u001b[1;32m~\\AppData\\Local\\Temp\\ipykernel_17456\\3724530786.py\u001b[0m in \u001b[0;36m<module>\u001b[1;34m\u001b[0m\n\u001b[0;32m     22\u001b[0m \u001b[1;33m\u001b[0m\u001b[0m\n\u001b[0;32m     23\u001b[0m \u001b[1;31m# Find the list of hostels\u001b[0m\u001b[1;33m\u001b[0m\u001b[1;33m\u001b[0m\u001b[0m\n\u001b[1;32m---> 24\u001b[1;33m \u001b[0mhostels\u001b[0m \u001b[1;33m=\u001b[0m \u001b[0mdriver\u001b[0m\u001b[1;33m.\u001b[0m\u001b[0mfind_elements_by_css_selector\u001b[0m\u001b[1;33m(\u001b[0m\u001b[1;34m'.flex-1.relative'\u001b[0m\u001b[1;33m)\u001b[0m\u001b[1;33m\u001b[0m\u001b[1;33m\u001b[0m\u001b[0m\n\u001b[0m\u001b[0;32m     25\u001b[0m \u001b[1;33m\u001b[0m\u001b[0m\n\u001b[0;32m     26\u001b[0m \u001b[1;31m# Loop through each hostel and extract data\u001b[0m\u001b[1;33m\u001b[0m\u001b[1;33m\u001b[0m\u001b[0m\n",
      "\u001b[1;31mAttributeError\u001b[0m: 'WebDriver' object has no attribute 'find_elements_by_css_selector'"
     ]
    }
   ],
   "source": [
    "# import selenium\n",
    "import pandas as pd\n",
    "from selenium import webdriver\n",
    "from selenium.webdriver.common.by import By\n",
    "from selenium.webdriver.support.ui import WebDriverWait\n",
    "from selenium.webdriver.support import expected_conditions as EC\n",
    "import warnings\n",
    "warnings.filterwarnings('ignore')\n",
    "from selenium.webdriver.common.by import By\n",
    "import requests \n",
    "import time\n",
    "import re\n",
    "\n",
    "# Set up Selenium WebDriver\n",
    "driver=webdriver.Chrome()  \n",
    "\n",
    "# Open the Hostelworld website for London\n",
    "url = \"https://www.hostelworld.com/search?search_keywords=London,%20England&country=England&city=London&date_from=2023-08-01&date_to=2023-08-10&number_of_guests=1\"\n",
    "driver.get(url)\n",
    "\n",
    "time.sleep(5)  # Give the page time to load hostels\n",
    "\n",
    "# Find the list of hostels\n",
    "hostels = driver.find_elements_by_css_selector('.flex-1.relative')\n",
    "\n",
    "# Loop through each hostel and extract data\n",
    "for hostel in hostels:\n",
    "    hostel_name = hostel.find_element_by_css_selector('.title.title-6').text\n",
    "    distance = hostel.find_element_by_css_selector('.distanceFromCenter.new').text\n",
    "    rating = hostel.find_element_by_css_selector('.score.orange').text\n",
    "    total_reviews = hostel.find_element_by_css_selector('.reviews.count').text\n",
    "    overall_reviews = hostel.find_element_by_css_selector('.score').text\n",
    "    privates_from_price = hostel.find_element_by_css_selector('.price.title-5').text\n",
    "    dorms_from_price = hostel.find_element_by_css_selector('.price.title-6').text\n",
    "    facilities = [facility.text for facility in hostel.find_elements_by_css_selector('.facilities')]\n",
    "    description = hostel.find_element_by_css_selector('.more-details.description').text\n",
    "\n",
    "    print(\"Hostel Name:\", hostel_name)\n",
    "    print(\"Distance from City Centre:\", distance)\n",
    "    print(\"Rating:\", rating)\n",
    "    print(\"Total Reviews:\", total_reviews)\n",
    "    print(\"Overall Reviews:\", overall_reviews)\n",
    "    print(\"Privates from Price:\", privates_from_price)\n",
    "    print(\"Dorms from Price:\", dorms_from_price)\n",
    "    print(\"Facilities:\", \", \".join(facilities))\n",
    "    print(\"Description:\", description)\n",
    "    print(\"=\" * 50)\n",
    "\n",
    "# Close the browser\n",
    "driver.quit()\n"
   ]
  },
  {
   "cell_type": "code",
   "execution_count": null,
   "id": "89697a38",
   "metadata": {},
   "outputs": [],
   "source": []
  }
 ],
 "metadata": {
  "kernelspec": {
   "display_name": "Python 3 (ipykernel)",
   "language": "python",
   "name": "python3"
  },
  "language_info": {
   "codemirror_mode": {
    "name": "ipython",
    "version": 3
   },
   "file_extension": ".py",
   "mimetype": "text/x-python",
   "name": "python",
   "nbconvert_exporter": "python",
   "pygments_lexer": "ipython3",
   "version": "3.9.13"
  }
 },
 "nbformat": 4,
 "nbformat_minor": 5
}
